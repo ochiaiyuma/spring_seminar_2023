{
  "cells": [
    {
      "cell_type": "markdown",
      "metadata": {
        "id": "sNuxVm6egG3v"
      },
      "source": [
        "# Knowledge distillation\n",
        "\n",
        "---\n",
        "\n",
        "DNNは一般的に，ネットワークのパラメータ数を増やす（層の数やチャネル数を増やす）と性能が向上していきます．しかし，ネットワークのパラメータ数を増やすと，それに伴って，実行時に必要なメモリ量や計算コストが増えてしまいます．実応用上，少ないメモリ量と計算コストで高性能な推論ができる小さなネットワークを作ることが望まれます．\n",
        "\n",
        "Knowledge distillation（知識蒸留）は，そのような小さくて高性能なネットワークを作るための学習方法です．これには，TeacherネットワークとStudentネットワークと呼ばれる2つのネットワークを使用します．以下に，クラス分類問題を解くネットワークにおけるknowledge distillationの学習方法を示します．\n",
        "\n",
        "<img src=\"https://paper-attachments.dropbox.com/s_87B2D47FBD0A698415C3853F712E17ACC67F633356B04D1BA9138A68175CE0AD_1596688289510_image.png\" width = 40%>\n",
        "\n",
        "Teacherネットワークは大きくて優秀な事前学習済み(pre-trained)ネットワークであり，StudentネットワークはTeacherネットワークよりも小さなネットワークです．事前学習済みのTeacherネットワークが持っている知識を，Teacherネットワークに教えながら学習させることで，Studentネットワークの性能が向上します．通常の学習では，ネットワークの推論結果が，人間が作成した正解ラベル(Hard target)と一致するように学習を行います．Knowledge distillationでは，Hard targetに加えて，Teacherネットワークの出力(Soft target)にも一致するようにStudentネットワークを学習させます．損失関数はどちらもクロスエントロピー関数を使用します．このように学習することで，distillationを用いない場合よりもStudentネットワークの性能が向上します．"
      ]
    },
    {
      "cell_type": "markdown",
      "metadata": {
        "id": "rx0Oz7qngG3y"
      },
      "source": [
        "## なぜ性能が向上するのか？\n",
        "\n",
        "クラス分類問題を解くネットワークを教師あり学習で学習させる場合，教師ラベル(Hard target)として正解クラスのみが1で他のクラスが0になっているデータを使用します．例えば，正解クラスがdogである場合には，以下の図ようにdogクラスのみが1になっており，それ以外のcatやcow, carなどのクラスは0になっている配列 [0, 1, 0, 0, …] を教師ラベルとして使用します．\n",
        "\n",
        "<img src=\"https://paper-attachments.dropbox.com/s_87B2D47FBD0A698415C3853F712E17ACC67F633356B04D1BA9138A68175CE0AD_1596368489677_image.png\" width = 30%>\n",
        "\n",
        "これに対して，学習済みのTeacherネットワークが出力する値(Soft target)は，以下の図のように，dogクラス以外にも0より大きな値が存在します．一般的に，この値は正解クラスと見た目が近いほど大きく，遠いほど小さくなります．この例では，dogクラスと見た目が近いcatクラスが2番目に大きな値を持っており，大きく見た目の異なるcarクラスは非常に小さな値となっています．\n",
        "\n",
        "<img src=\"https://paper-attachments.dropbox.com/s_87B2D47FBD0A698415C3853F712E17ACC67F633356B04D1BA9138A68175CE0AD_1596368473731_image.png\" width = 30%>\n",
        "\n",
        "つまり，学習済みのネットワークが出力する値には，入力画像に対する正解クラスの類似度情報（ここではdogクラスの0.9）の他に，正解クラス”以外”の類似度情報も含まれています．優秀なTeacherネットワークから得られた，この類似度情報をStudentネットワークに伝えることで，Studentネットワークの精度が向上すると考えられています．（※ただし，理論的な証明はまだ存在していません．また，この他にも”ラベル平滑化”による正則化の効果など，複数の要因によって性能が向上すると考えられています．）"
      ]
    },
    {
      "cell_type": "markdown",
      "metadata": {
        "id": "k6fAUZ06gG3y"
      },
      "source": [
        "## 学習方法\n",
        "\n",
        "KDでは以下の2段階の手順でネットワークを学習します．\n",
        "\n",
        "1. 教師ラベル(hard target)を使ってTeacherネットワークを学習させる\n",
        "2. 教師ラベル(hard target)と学習済みのTeacherネットワークの出力(soft target)を使ってStudentネットワークを学習させる\n",
        "\n",
        "#### ステップ 1\n",
        "Teacherネットワークの学習は通常の教師あり学習です．損失関数として，教師ラベルとのCross entropy lossを使用します．このとき，学習させたTeacherネットワークを保存しておき，次のステップで使います．\n",
        "\n",
        "#### ステップ 2\n",
        "Studentネットワークの学習では，教師ラベルを使用した通常の教師あり学習に加え，学習済みTeacherネットワークの出力を模倣するような学習を行います．\n",
        "\n",
        "教師ラベル(hard target)との損失を計算する際にはcross entropy lossを使用します．損失関数は以下のように表されます．\n",
        "\n",
        "$$L_{hard} = - \\sum^C_i{t_i \\log{p^s_i(x)}}$$\n",
        "\n",
        "ここで，$C$はクラス数，$t_i \\in \\{0,1\\}$は$i$番目クラスの教師ラベル値，$x$は入力画像，$p^s_i$はStudentネットワークの出力をsoftmax関数で正規化した後の，$i$番目クラスの確率値です (例えば，dogクラスの0.9や，catクラスの0.1などです)．この損失関数は，通常の教師あり学習で使用するものとまったく同じ関数です．\n",
        "\n",
        "Teacherネットワークの出力(soft target)との損失を計算する際にも同様にcross entropy lossを使用します．損失関数は以下のように表されます．これがdistillationに使われる損失関数です．\n",
        "\n",
        "$$L_{soft} = - \\sum^C_i{p^t_i(x; \\tau) \\log{p^s_i(x; \\tau)}}$$\n",
        "\n",
        "ここで，$p^t_i$はTeacherネットワークの出力をsoftmax関数で正規化した後の，$i$番目クラスの確率値です．また，$\\tau$は温度パラメータと呼ばれるもので，softmax関数によって正規化された確率分布の滑らかさを決定する値です．この温度付きsoftmax関数には，Teacherネットワークの情報をStudentネットワークに伝えやすくする役割があります．\n",
        "\n",
        "最終的な損失は以下のように計算します．$\\alpha$は蒸留用の損失をどれだけ考慮するかを決定するパラメータです．\n",
        "$$L = L_{hard} + \\alpha \\cdot L_{soft}$$"
      ]
    },
    {
      "cell_type": "markdown",
      "metadata": {
        "id": "GW0SGUUUgG3z"
      },
      "source": [
        "## Softmax関数の温度パラメータ\n",
        "\n",
        "温度付きSoftmax関数とは，以下の式で表される関数です．ここで，$z$がネットワークの出力(logits)，$\\tau$が温度パラメータを表します．温度$\\tau$を高い値にすることで，正規化後の確率分布が滑らかになります．\n",
        "\n",
        "$$p_i = \\frac{exp(z_i/\\tau)}{\\sum^C_k{exp(z_k/\\tau)}}$$\n",
        "\n",
        "温度付きSoftmax関数の振る舞いを理解するため，以下に温度$\\tau$を変更した際の，各クラスの確率値$p_i$の分布を示します．左がネットワークの出力$z_i$の分布，中央が$\\tau=1$で$z_i$を正規化したときの確率$p_i$の分布，右が$\\tau=4$の場合の確率$p_i$の分布です．温度を上げることで確率分布が変化していることが分かります．(プログラム中の”T”の値を書き換えて，分布がどのように変化するか調べてみてください)\n",
        "\n",
        "通常のsoftmax関数($\\tau=1$の場合に相当)は，最も大きな値のみが1に近く，それ以外は0に近い値となります．この状態のままクロスエントロピー関数を使って蒸留すると，Teacherネットワークが持つ不正解クラスの情報がStudentネットワークにうまく伝わりません．温度パラメータを導入し，$\\tau$の値を大きくすることで，不正解クラスの確率値がある程度大きくなるため，その情報が伝わりやすくなります．"
      ]
    },
    {
      "cell_type": "code",
      "execution_count": 1,
      "metadata": {
        "id": "C8ccd6BMgG3z",
        "outputId": "75bd4cbe-5f4b-4d71-de9c-921bc63996c8",
        "colab": {
          "base_uri": "https://localhost:8080/",
          "height": 360
        }
      },
      "outputs": [
        {
          "output_type": "display_data",
          "data": {
            "text/plain": [
              "<Figure size 1800x400 with 3 Axes>"
            ],
            "image/png": "[encoded data removed]"
          },
          "metadata": {}
        }
      ],
      "source": [
        "import torch\n",
        "import matplotlib.pyplot as plt\n",
        "\n",
        "class_name = [\"car\",\"cat\", \"deer\", \"dog\", \"cow\"]\n",
        "z = torch.tensor([-5.2, 6.3, -0.5, 9.4, 3.1])\n",
        "\n",
        "T = 1\n",
        "p_1 = torch.softmax(z/T, dim=0)\n",
        "\n",
        "T = 4\n",
        "p_4 = torch.softmax(z/T, dim=0)\n",
        "\n",
        "fig, (ax1, ax2, ax3) = plt.subplots(ncols=3, figsize=(18,4))\n",
        "ax1.bar(class_name, z)\n",
        "ax2.bar(class_name, p_1)\n",
        "ax3.bar(class_name, p_4)\n",
        "ax2.set_ylim([0,1])\n",
        "ax3.set_ylim([0,1])\n",
        "ax1.set_title(\"$z_i$: logits\")\n",
        "ax2.set_title(\"$p_i$: softmax (T=1)\")\n",
        "ax3.set_title(\"$p_i$: softmax (T=4)\")\n",
        "fig.show()"
      ]
    },
    {
      "cell_type": "markdown",
      "metadata": {
        "id": "p3JWaP0ggG30"
      },
      "source": [
        "# 畳み込みニューラルネットワークのknowledge distillation\n",
        "クラス分類問題を解くネットワークに対して，knowledge distillationを適用した学習を行います．\n",
        "データセットには一般物体認識用のデータセットであるCIFAR-10を使います．CIFAR-10は10クラスの画像からなるデータセットです．\n",
        "蒸留では，\n",
        "\n",
        "1. Teacherネットワークを学習させる\n",
        "2. Studentネットワークを学習させる\n",
        "\n",
        "という2段階の学習を行います．\n",
        "この実験の目的は，Studentネットワークの精度が，蒸留を使用しない通常の学習よりも向上するかどうかを確かめることです．\n",
        "そのため，Studentネットワークを蒸留を用いずに学習させた場合と，蒸留を用いて学習させた場合の2つを比較します．"
      ]
    },
    {
      "cell_type": "code",
      "execution_count": 2,
      "metadata": {
        "id": "32TJwn_0gG30"
      },
      "outputs": [],
      "source": [
        "from time import time\n",
        "import torch\n",
        "import torch.nn as nn\n",
        "import torch.nn.functional as F\n",
        "import torchvision\n",
        "import torchvision.transforms as transforms\n",
        "import torchsummary"
      ]
    },
    {
      "cell_type": "code",
      "execution_count": 3,
      "metadata": {
        "id": "gaBMjPKqgG30"
      },
      "outputs": [],
      "source": [
        "# エポック数の設定\n",
        "NUM_EPOCH = 20"
      ]
    },
    {
      "cell_type": "code",
      "execution_count": 4,
      "metadata": {
        "id": "CjYex7dMgG30",
        "outputId": "f67ae002-78e1-479d-ea11-98f6cbe7d89d",
        "colab": {
          "base_uri": "https://localhost:8080/"
        }
      },
      "outputs": [
        {
          "output_type": "stream",
          "name": "stdout",
          "text": [
            "Downloading https://www.cs.toronto.edu/~kriz/cifar-10-python.tar.gz to ./dataset/CIFAR-10/cifar-10-python.tar.gz\n"
          ]
        },
        {
          "output_type": "stream",
          "name": "stderr",
          "text": [
            "100%|██████████| 170498071/170498071 [00:01<00:00, 90333878.43it/s]\n"
          ]
        },
        {
          "output_type": "stream",
          "name": "stdout",
          "text": [
            "Extracting ./dataset/CIFAR-10/cifar-10-python.tar.gz to ./dataset/CIFAR-10\n",
            "Files already downloaded and verified\n"
          ]
        },
        {
          "output_type": "stream",
          "name": "stderr",
          "text": [
            "/usr/local/lib/python3.10/dist-packages/torch/utils/data/dataloader.py:561: UserWarning: This DataLoader will create 10 worker processes in total. Our suggested max number of worker in current system is 2, which is smaller than what this DataLoader is going to create. Please be aware that excessive worker creation might get DataLoader running slow or even freeze, lower the worker number to avoid potential slowness/freeze if necessary.\n",
            "  warnings.warn(_create_warning_msg(\n"
          ]
        }
      ],
      "source": [
        "# データローダーの準備\n",
        "transform = transforms.Compose([\n",
        "    transforms.RandomHorizontalFlip(),\n",
        "    transforms.RandomCrop(32, padding=4),\n",
        "    transforms.ToTensor(),\n",
        "    transforms.Normalize((0.4914, 0.4822, 0.4465), (0.2470, 0.2435, 0.2616)),\n",
        "])\n",
        "\n",
        "test_transform = transforms.Compose([\n",
        "    transforms.ToTensor(),\n",
        "    transforms.Normalize((0.4914, 0.4822, 0.4465), (0.2470, 0.2435, 0.2616)),\n",
        "])\n",
        "\n",
        "train_data = torchvision.datasets.CIFAR10(root=\"./dataset/CIFAR-10\", train=True, transform=transform, download=True)\n",
        "test_data = torchvision.datasets.CIFAR10(root=\"./dataset/CIFAR-10\", train=False, transform=test_transform, download=True)\n",
        "\n",
        "train_loader = torch.utils.data.DataLoader(train_data, batch_size=64, shuffle=True, num_workers=10)\n",
        "test_loader = torch.utils.data.DataLoader(test_data, batch_size=1000, shuffle=False, num_workers=10)"
      ]
    },
    {
      "cell_type": "markdown",
      "metadata": {
        "id": "oh0FwqHJgG30"
      },
      "source": [
        "## ネットワークの用意\n",
        "畳み込みネットワークを定義します．ここでは，2層の畳み込み層と3層の全結合層により構成されるネットワークとします．\n",
        "widen_factorという引数は，畳み込み層のフィルタ数と全結合層のユニット数をデフォルトの値から何倍するかを決定するものです．"
      ]
    },
    {
      "cell_type": "code",
      "execution_count": 5,
      "metadata": {
        "id": "qem7jZSggG31"
      },
      "outputs": [],
      "source": [
        "class CNN(nn.Module):\n",
        "    def __init__(self, widen_factor=1):\n",
        "        super().__init__()\n",
        "        self.conv1 = nn.Conv2d(3, 16*widen_factor, kernel_size=3, stride=1, padding=1)\n",
        "        self.conv2 = nn.Conv2d(16*widen_factor, 32*widen_factor, kernel_size=3, stride=1, padding=1)\n",
        "        self.l1 = nn.Linear(8*8*32*widen_factor, 1024*widen_factor)\n",
        "        self.l2 = nn.Linear(1024*widen_factor, 1024*widen_factor)\n",
        "        self.l3 = nn.Linear(1024*widen_factor, 10)\n",
        "        self.act = nn.ReLU()\n",
        "        self.pool = nn.MaxPool2d(2, 2)\n",
        "    \n",
        "    def forward(self, x):\n",
        "        h = self.pool(self.act(self.conv1(x)))\n",
        "        h = self.pool(self.act(self.conv2(h)))\n",
        "        h = h.view(h.size()[0], -1)\n",
        "        h = self.act(self.l1(h))\n",
        "        h = self.act(self.l2(h))\n",
        "        h = self.l3(h)\n",
        "        return h"
      ]
    },
    {
      "cell_type": "markdown",
      "metadata": {
        "id": "XpkGeSUAgG31"
      },
      "source": [
        "## Teacherネットワークの学習"
      ]
    },
    {
      "cell_type": "markdown",
      "metadata": {
        "id": "_hucYX1_gG31"
      },
      "source": [
        "### Teacherネットワークの用意\n",
        "Teacherネットワークを作成します．今回は，widen_factor=2 の大きなネットワークを用意します．\n",
        "サマリーの Total params を見ると，パラメータ数が 12,626,890 あることが分かります．"
      ]
    },
    {
      "cell_type": "code",
      "execution_count": 6,
      "metadata": {
        "id": "4VHxxVAJgG31",
        "outputId": "1d946062-00d3-42eb-af6e-2a96594887e1",
        "colab": {
          "base_uri": "https://localhost:8080/"
        }
      },
      "outputs": [
        {
          "output_type": "stream",
          "name": "stdout",
          "text": [
            "----------------------------------------------------------------\n",
            "        Layer (type)               Output Shape         Param #\n",
            "================================================================\n",
            "            Conv2d-1           [-1, 32, 32, 32]             896\n",
            "              ReLU-2           [-1, 32, 32, 32]               0\n",
            "         MaxPool2d-3           [-1, 32, 16, 16]               0\n",
            "            Conv2d-4           [-1, 64, 16, 16]          18,496\n",
            "              ReLU-5           [-1, 64, 16, 16]               0\n",
            "         MaxPool2d-6             [-1, 64, 8, 8]               0\n",
            "            Linear-7                 [-1, 2048]       8,390,656\n",
            "              ReLU-8                 [-1, 2048]               0\n",
            "            Linear-9                 [-1, 2048]       4,196,352\n",
            "             ReLU-10                 [-1, 2048]               0\n",
            "           Linear-11                   [-1, 10]          20,490\n",
            "================================================================\n",
            "Total params: 12,626,890\n",
            "Trainable params: 12,626,890\n",
            "Non-trainable params: 0\n",
            "----------------------------------------------------------------\n",
            "Input size (MB): 0.01\n",
            "Forward/backward pass size (MB): 0.91\n",
            "Params size (MB): 48.17\n",
            "Estimated Total Size (MB): 49.09\n",
            "----------------------------------------------------------------\n"
          ]
        }
      ],
      "source": [
        "# teacher を用意\n",
        "teacher = CNN(widen_factor=2).cuda()\n",
        "# teacher のサマリーを表示\n",
        "torchsummary.summary(model=teacher, input_size=(3,32,32))"
      ]
    },
    {
      "cell_type": "markdown",
      "metadata": {
        "id": "HiWhLVGXgG31"
      },
      "source": [
        "### 学習 & 評価"
      ]
    },
    {
      "cell_type": "code",
      "execution_count": 7,
      "metadata": {
        "id": "Jk59jYBpgG31",
        "outputId": "36ad7590-71a2-4efa-8653-78474123fe08",
        "colab": {
          "base_uri": "https://localhost:8080/"
        }
      },
      "outputs": [
        {
          "output_type": "stream",
          "name": "stdout",
          "text": [
            "epoch: 1, mean loss: 1.6604662478122565, mean accuracy: 0.39126, elapsed_time :24.666000366210938\n",
            "epoch: 2, mean loss: 1.2806806487348072, mean accuracy: 0.53502, elapsed_time :48.40411925315857\n",
            "epoch: 3, mean loss: 1.0994408977458545, mean accuracy: 0.60624, elapsed_time :72.00950646400452\n",
            "epoch: 4, mean loss: 0.9751045350985759, mean accuracy: 0.65454, elapsed_time :94.2478301525116\n",
            "epoch: 5, mean loss: 0.8861555691875155, mean accuracy: 0.6877, elapsed_time :118.22456192970276\n",
            "epoch: 6, mean loss: 0.8206340026901201, mean accuracy: 0.71088, elapsed_time :142.0344955921173\n",
            "epoch: 7, mean loss: 0.7677793354558213, mean accuracy: 0.73028, elapsed_time :164.22738409042358\n",
            "epoch: 8, mean loss: 0.7208804390238374, mean accuracy: 0.74748, elapsed_time :188.04134702682495\n",
            "epoch: 9, mean loss: 0.6809453479088176, mean accuracy: 0.76194, elapsed_time :211.97762322425842\n",
            "epoch: 10, mean loss: 0.6524940864052005, mean accuracy: 0.77174, elapsed_time :239.26587390899658\n",
            "epoch: 11, mean loss: 0.6132739164564006, mean accuracy: 0.78398, elapsed_time :262.59473299980164\n",
            "epoch: 12, mean loss: 0.5894937991638622, mean accuracy: 0.79338, elapsed_time :285.69164395332336\n",
            "epoch: 13, mean loss: 0.5664626239891857, mean accuracy: 0.80304, elapsed_time :309.8731482028961\n",
            "epoch: 14, mean loss: 0.5415237996622425, mean accuracy: 0.8081, elapsed_time :333.9025704860687\n",
            "epoch: 15, mean loss: 0.5165638226034391, mean accuracy: 0.81854, elapsed_time :356.4650020599365\n",
            "epoch: 16, mean loss: 0.4984834161408417, mean accuracy: 0.8244, elapsed_time :380.41669631004333\n",
            "epoch: 17, mean loss: 0.4790382103427597, mean accuracy: 0.8312, elapsed_time :404.56705236434937\n",
            "epoch: 18, mean loss: 0.46229593421492127, mean accuracy: 0.83752, elapsed_time :427.09315848350525\n",
            "epoch: 19, mean loss: 0.44213769424830557, mean accuracy: 0.84418, elapsed_time :451.32990646362305\n",
            "epoch: 20, mean loss: 0.4273011068172772, mean accuracy: 0.84982, elapsed_time :475.16981506347656\n",
            "test accuracy: 0.8142\n"
          ]
        }
      ],
      "source": [
        "# オプティマイザの設定\n",
        "optimizer = torch.optim.SGD(teacher.parameters(), lr=0.01, momentum=0.9)\n",
        "\n",
        "# ネットワークを学習モードへ変更\n",
        "teacher.train()\n",
        "\n",
        "start = time()\n",
        "for epoch in range(1, NUM_EPOCH+1):\n",
        "    sum_loss = 0.0\n",
        "    count = 0\n",
        "    \n",
        "    for image, label in train_loader:\n",
        "        \n",
        "        image = image.cuda()\n",
        "        label = label.cuda()\n",
        "        \n",
        "        y = teacher(image)\n",
        "        \n",
        "        # 損失の計算\n",
        "        loss = F.cross_entropy(y, label)\n",
        "        \n",
        "        teacher.zero_grad()\n",
        "        loss.backward()\n",
        "        optimizer.step()\n",
        "        \n",
        "        sum_loss += loss.item()\n",
        "        \n",
        "        pred = torch.argmax(y, dim=1)\n",
        "        count += torch.sum(pred == label)\n",
        "        \n",
        "    print(f\"epoch: {epoch}, mean loss: {sum_loss/len(train_loader)}, mean accuracy: {count.item()/len(train_loader.dataset)}, elapsed_time :{time()-start}\")\n",
        "\n",
        "# ネットワークを評価モードへ変更\n",
        "teacher.eval()\n",
        "\n",
        "# 評価の実行\n",
        "count = 0\n",
        "with torch.no_grad():\n",
        "    for image, label in test_loader:\n",
        "        \n",
        "        image = image.cuda()\n",
        "        label = label.cuda()\n",
        "        \n",
        "        y = teacher(image)\n",
        "        \n",
        "        pred = torch.argmax(y, dim=1)\n",
        "        count += torch.sum(pred == label)\n",
        "\n",
        "print(f\"test accuracy: {count.item()/len(test_loader.dataset)}\")"
      ]
    },
    {
      "cell_type": "markdown",
      "metadata": {
        "id": "vaYlwcBngG31"
      },
      "source": [
        "### モデルの保存\n",
        "学習済みのTeacherネットワークの重みパラメータを保存しておきます．こうすることで，再実験を行う際に，Teacherネットワークを再度学習させなくても済むようになります．"
      ]
    },
    {
      "cell_type": "code",
      "execution_count": 8,
      "metadata": {
        "id": "xL_n6IrjgG31"
      },
      "outputs": [],
      "source": [
        "torch.save(teacher, \"teacher.pkl\")"
      ]
    },
    {
      "cell_type": "markdown",
      "metadata": {
        "id": "iz_EP0PPgG31"
      },
      "source": [
        "## Studentネットワーク単体の学習（KDなしの場合）\n",
        "後で比較をするために，Studentネットワークに対して，knowledge distillationを適用しない通常の学習を行います．"
      ]
    },
    {
      "cell_type": "markdown",
      "metadata": {
        "id": "De4fewBagG31"
      },
      "source": [
        "### Studentネットワークの用意\n",
        "Studentネットワークを作成します．Teacherネットワークよりも小さなネットワークにするため widen_factor=1 にします．Teacherネットワークのパラメータ数は 12,626,890 でしたが，Studentネットワークのパラメータ数は 3,163,114 であり，約4分の1になっていることが分かります．"
      ]
    },
    {
      "cell_type": "code",
      "execution_count": 9,
      "metadata": {
        "id": "ShVCI5BEgG32",
        "colab": {
          "base_uri": "https://localhost:8080/"
        },
        "outputId": "8abb3388-6379-45bc-ab8e-185f7fb1aed2"
      },
      "outputs": [
        {
          "output_type": "stream",
          "name": "stdout",
          "text": [
            "----------------------------------------------------------------\n",
            "        Layer (type)               Output Shape         Param #\n",
            "================================================================\n",
            "            Conv2d-1           [-1, 16, 32, 32]             448\n",
            "              ReLU-2           [-1, 16, 32, 32]               0\n",
            "         MaxPool2d-3           [-1, 16, 16, 16]               0\n",
            "            Conv2d-4           [-1, 32, 16, 16]           4,640\n",
            "              ReLU-5           [-1, 32, 16, 16]               0\n",
            "         MaxPool2d-6             [-1, 32, 8, 8]               0\n",
            "            Linear-7                 [-1, 1024]       2,098,176\n",
            "              ReLU-8                 [-1, 1024]               0\n",
            "            Linear-9                 [-1, 1024]       1,049,600\n",
            "             ReLU-10                 [-1, 1024]               0\n",
            "           Linear-11                   [-1, 10]          10,250\n",
            "================================================================\n",
            "Total params: 3,163,114\n",
            "Trainable params: 3,163,114\n",
            "Non-trainable params: 0\n",
            "----------------------------------------------------------------\n",
            "Input size (MB): 0.01\n",
            "Forward/backward pass size (MB): 0.45\n",
            "Params size (MB): 12.07\n",
            "Estimated Total Size (MB): 12.53\n",
            "----------------------------------------------------------------\n"
          ]
        }
      ],
      "source": [
        "# student を用意\n",
        "student = CNN(widen_factor=1).cuda()\n",
        "# teacher のサマリーを表示\n",
        "torchsummary.summary(model=student, input_size=(3,32,32))"
      ]
    },
    {
      "cell_type": "markdown",
      "metadata": {
        "id": "3cXkzVlEgG32"
      },
      "source": [
        "### 学習 & 評価"
      ]
    },
    {
      "cell_type": "code",
      "execution_count": 10,
      "metadata": {
        "id": "gReEV5zRgG32",
        "colab": {
          "base_uri": "https://localhost:8080/"
        },
        "outputId": "3a1d50a5-b34e-4f23-8c21-a8fc3a8ca8bb"
      },
      "outputs": [
        {
          "output_type": "stream",
          "name": "stdout",
          "text": [
            "epoch: 1, mean loss: 1.7062728057432053, mean accuracy: 0.36928, elapsed_time :23.17759108543396\n",
            "epoch: 2, mean loss: 1.3400048429094007, mean accuracy: 0.5129, elapsed_time :44.93253445625305\n",
            "epoch: 3, mean loss: 1.1748120920432499, mean accuracy: 0.5791, elapsed_time :68.56413722038269\n",
            "epoch: 4, mean loss: 1.0634584812556995, mean accuracy: 0.6221, elapsed_time :91.9194688796997\n",
            "epoch: 5, mean loss: 0.9919442676979563, mean accuracy: 0.6502, elapsed_time :113.69218826293945\n",
            "epoch: 6, mean loss: 0.9271634256519625, mean accuracy: 0.6724, elapsed_time :137.04086422920227\n",
            "epoch: 7, mean loss: 0.8789698914493747, mean accuracy: 0.6918, elapsed_time :160.22949314117432\n",
            "epoch: 8, mean loss: 0.8351542917282685, mean accuracy: 0.70712, elapsed_time :182.2332890033722\n",
            "epoch: 9, mean loss: 0.8021047632864979, mean accuracy: 0.71686, elapsed_time :205.7162492275238\n",
            "epoch: 10, mean loss: 0.7656813515802784, mean accuracy: 0.7304, elapsed_time :229.0581991672516\n",
            "epoch: 11, mean loss: 0.7394369916842721, mean accuracy: 0.7407, elapsed_time :251.0762538909912\n",
            "epoch: 12, mean loss: 0.7170442186124489, mean accuracy: 0.74932, elapsed_time :274.54839277267456\n",
            "epoch: 13, mean loss: 0.6920530919147574, mean accuracy: 0.75668, elapsed_time :297.2284080982208\n",
            "epoch: 14, mean loss: 0.6739760905580447, mean accuracy: 0.76498, elapsed_time :319.50987458229065\n",
            "epoch: 15, mean loss: 0.6492018209546423, mean accuracy: 0.77076, elapsed_time :342.8954074382782\n",
            "epoch: 16, mean loss: 0.6383722320465786, mean accuracy: 0.77612, elapsed_time :365.4902322292328\n",
            "epoch: 17, mean loss: 0.617114661104234, mean accuracy: 0.78252, elapsed_time :387.7749288082123\n",
            "epoch: 18, mean loss: 0.6066500171066245, mean accuracy: 0.78694, elapsed_time :411.3436839580536\n",
            "epoch: 19, mean loss: 0.5900309070220688, mean accuracy: 0.7921, elapsed_time :434.0152471065521\n",
            "epoch: 20, mean loss: 0.5756549375212711, mean accuracy: 0.79712, elapsed_time :456.3345592021942\n",
            "test accuracy: 0.7773\n"
          ]
        }
      ],
      "source": [
        "# オプティマイザの設定\n",
        "optimizer = torch.optim.SGD(student.parameters(), lr=0.01, momentum=0.9)\n",
        "\n",
        "# ネットワークを学習モードへ変更\n",
        "student.train()\n",
        "\n",
        "start = time()\n",
        "for epoch in range(1, NUM_EPOCH+1):\n",
        "    sum_loss = 0.0\n",
        "    count = 0\n",
        "    \n",
        "    for image, label in train_loader:\n",
        "        \n",
        "        image = image.cuda()\n",
        "        label = label.cuda()\n",
        "        \n",
        "        y_s = student(image)\n",
        "        \n",
        "        # 損失の計算\n",
        "        loss = F.cross_entropy(y_s, label)\n",
        "        \n",
        "        student.zero_grad()\n",
        "        loss.backward()\n",
        "        optimizer.step()\n",
        "        \n",
        "        sum_loss += loss.item()\n",
        "        \n",
        "        pred = torch.argmax(y_s, dim=1)\n",
        "        count += torch.sum(pred == label)\n",
        "        \n",
        "    print(f\"epoch: {epoch}, mean loss: {sum_loss/len(train_loader)}, mean accuracy: {count.item()/len(train_loader.dataset)}, elapsed_time :{time()-start}\")\n",
        "\n",
        "# ネットワークを評価モードへ変更\n",
        "student.eval()\n",
        "\n",
        "# 評価の実行\n",
        "count = 0\n",
        "with torch.no_grad():\n",
        "    for image, label in test_loader:\n",
        "        \n",
        "        image = image.cuda()\n",
        "        label = label.cuda()\n",
        "        \n",
        "        y = student(image)\n",
        "        \n",
        "        pred = torch.argmax(y, dim=1)\n",
        "        count += torch.sum(pred == label)\n",
        "\n",
        "print(f\"test accuracy: {count.item()/len(test_loader.dataset)}\")"
      ]
    },
    {
      "cell_type": "markdown",
      "metadata": {
        "id": "TNLt_R3YgG32"
      },
      "source": [
        "## Studentネットワークの学習（KDありの場合）\n",
        "学習済みTeacherネットワークを使ってknowledge distillationを行います．"
      ]
    },
    {
      "cell_type": "markdown",
      "metadata": {
        "id": "IvJjbzDygG32"
      },
      "source": [
        "### Teacherネットワークの読み込み\n",
        "先ほど保存したTeacherネットワークの重みパラメータをteacherに読み込みます．"
      ]
    },
    {
      "cell_type": "code",
      "execution_count": 11,
      "metadata": {
        "id": "Y6PiLsgTgG32"
      },
      "outputs": [],
      "source": [
        "teacher = torch.load(\"teacher.pkl\")"
      ]
    },
    {
      "cell_type": "markdown",
      "metadata": {
        "id": "1XZNaxSAgG32"
      },
      "source": [
        "### Studentネットワークの用意\n",
        "Studentネットワークの重みを初期化するため，再度ネットワークを作成します．"
      ]
    },
    {
      "cell_type": "code",
      "execution_count": 12,
      "metadata": {
        "id": "ZdSHzhQ8gG32"
      },
      "outputs": [],
      "source": [
        "student = CNN(widen_factor=1).cuda()"
      ]
    },
    {
      "cell_type": "markdown",
      "metadata": {
        "id": "B0NdWeSsgG32"
      },
      "source": [
        "### Cross entropy lossの定義\n",
        "蒸留用の損失関数を定義します．StudentネットワークとTeacherネットワークの出力(logits)に対して温度付きsoftmaxで正規化し，cross entropy lossを計算します．"
      ]
    },
    {
      "cell_type": "code",
      "execution_count": 13,
      "metadata": {
        "id": "JTXFeFsJgG32"
      },
      "outputs": [],
      "source": [
        "def cross_entropy(student_logits, teacher_logits, T):\n",
        "    student_log_softmax = F.log_softmax(student_logits/T, dim=1)\n",
        "    teacher_softmax = F.softmax(teacher_logits/T, dim=1)\n",
        "    ce = -(teacher_softmax * student_log_softmax).sum(dim=1)\n",
        "    return ce.mean()"
      ]
    },
    {
      "cell_type": "markdown",
      "metadata": {
        "id": "ysu7Tzg2gG32"
      },
      "source": [
        "### 学習 & 評価\n",
        "$L_{hard}$と$L_{soft}$の2つの損失関数を使用して，Studentネットワークを学習させます．\n",
        "今回は，温度パラメータを 4，$\\alpha$を 4 に設定します．\n",
        "Studentネットワークの損失値と精度を表示します．"
      ]
    },
    {
      "cell_type": "code",
      "execution_count": null,
      "metadata": {
        "id": "kKsqUzvDgG32",
        "colab": {
          "base_uri": "https://localhost:8080/"
        },
        "outputId": "b97e94cb-2be4-426d-e2b8-5f27c966b0d7"
      },
      "outputs": [
        {
          "output_type": "stream",
          "name": "stdout",
          "text": [
            "epoch: 1, mean loss: 9.706670069023776, mean accuracy: 0.38748, elapsed_time :21.46865463256836\n",
            "epoch: 2, mean loss: 8.610016905133376, mean accuracy: 0.54334, elapsed_time :42.39400029182434\n",
            "epoch: 3, mean loss: 8.130988739945394, mean accuracy: 0.61622, elapsed_time :64.06006336212158\n",
            "epoch: 4, mean loss: 7.831575654656686, mean accuracy: 0.66082, elapsed_time :85.16113352775574\n",
            "epoch: 5, mean loss: 7.627234847344401, mean accuracy: 0.69384, elapsed_time :105.96640706062317\n",
            "epoch: 6, mean loss: 7.49224313628643, mean accuracy: 0.71472, elapsed_time :127.61660146713257\n",
            "epoch: 7, mean loss: 7.413107793959205, mean accuracy: 0.7289, elapsed_time :148.91627836227417\n",
            "epoch: 8, mean loss: 7.324333560436278, mean accuracy: 0.74214, elapsed_time :169.63936924934387\n",
            "epoch: 9, mean loss: 7.258850978158624, mean accuracy: 0.7571, elapsed_time :191.2276382446289\n",
            "epoch: 10, mean loss: 7.224608535351961, mean accuracy: 0.76706, elapsed_time :212.76279091835022\n",
            "epoch: 11, mean loss: 7.172481875285468, mean accuracy: 0.77184, elapsed_time :233.39065861701965\n",
            "epoch: 12, mean loss: 7.147882418864218, mean accuracy: 0.78102, elapsed_time :254.92633962631226\n",
            "epoch: 13, mean loss: 7.109907391126199, mean accuracy: 0.78996, elapsed_time :276.508428812027\n",
            "epoch: 14, mean loss: 7.078267737727641, mean accuracy: 0.79628, elapsed_time :297.19865322113037\n",
            "epoch: 15, mean loss: 7.06388093260548, mean accuracy: 0.80014, elapsed_time :318.78874111175537\n",
            "epoch: 16, mean loss: 7.025756460931295, mean accuracy: 0.80784, elapsed_time :340.2803041934967\n",
            "epoch: 17, mean loss: 7.014264369559715, mean accuracy: 0.81128, elapsed_time :361.0164566040039\n",
            "epoch: 18, mean loss: 6.991345172038164, mean accuracy: 0.81716, elapsed_time :382.5279426574707\n",
            "epoch: 19, mean loss: 6.9656149895904615, mean accuracy: 0.8196, elapsed_time :404.15291714668274\n",
            "epoch: 20, mean loss: 6.96047533137719, mean accuracy: 0.8241, elapsed_time :424.6393916606903\n",
            "test accuracy: 0.7984\n"
          ]
        }
      ],
      "source": [
        "# オプティマイザの設定\n",
        "optimizer = torch.optim.SGD(student.parameters(), lr=0.01, momentum=0.9)\n",
        "\n",
        "# studentネットワークのみを学習モードへ変更\n",
        "teacher.eval()\n",
        "student.train()\n",
        "\n",
        "start = time()\n",
        "for epoch in range(1, NUM_EPOCH+1):\n",
        "    sum_loss = 0.0\n",
        "    count = 0\n",
        "    \n",
        "    for image, label in train_loader:\n",
        "        \n",
        "        image = image.cuda()\n",
        "        label = label.cuda()\n",
        "        \n",
        "        # Teacherネットワークの出力を得る\n",
        "        y_t = teacher(image)\n",
        "        # Studentネットワークの出力を得る\n",
        "        y_s = student(image)\n",
        "        \n",
        "        # 損失の計算\n",
        "        hard_loss = F.cross_entropy(y_s, label)\n",
        "        soft_loss = cross_entropy(y_s, y_t.detach(), T=4.)####\n",
        "        loss = hard_loss + 4.0 * soft_loss\n",
        "        \n",
        "        student.zero_grad()\n",
        "        loss.backward()\n",
        "        optimizer.step()\n",
        "        \n",
        "        sum_loss += loss.item()\n",
        "        \n",
        "        pred = torch.argmax(y_s, dim=1)\n",
        "        count += torch.sum(pred == label)\n",
        "        \n",
        "    print(f\"epoch: {epoch}, mean loss: {sum_loss/len(train_loader)}, mean accuracy: {count.item()/len(train_loader.dataset)}, elapsed_time :{time()-start}\")\n",
        "\n",
        "# ネットワークを評価モードへ変更\n",
        "student.eval()\n",
        "\n",
        "# 評価の実行\n",
        "count = 0\n",
        "with torch.no_grad():\n",
        "    for image, label in test_loader:\n",
        "        \n",
        "        image = image.cuda()\n",
        "        label = label.cuda()\n",
        "        \n",
        "        y = student(image)\n",
        "        \n",
        "        pred = torch.argmax(y, dim=1)\n",
        "        count += torch.sum(pred == label)\n",
        "\n",
        "print(f\"test accuracy: {count.item()/len(test_loader.dataset)}\")"
      ]
    },
    {
      "cell_type": "markdown",
      "metadata": {
        "id": "yjmeKSSqgG33"
      },
      "source": [
        "# 課題\n",
        "1. 温度パラメータ $\\tau$ の値や$\\alpha$の値を変更して精度の変化を調査してください．\n",
        "\n"
      ]
    },
    {
      "cell_type": "code",
      "execution_count": 29,
      "metadata": {
        "id": "USE7vfrOgG33",
        "colab": {
          "base_uri": "https://localhost:8080/"
        },
        "outputId": "10c18d46-28ac-45ce-a16a-3a06eac5bfbf"
      },
      "outputs": [
        {
          "output_type": "stream",
          "name": "stdout",
          "text": [
            "epoch: 1, mean loss: 8.772285346789738, mean accuracy: 0.39516, elapsed_time :22.25990319252014\n",
            "epoch: 2, mean loss: 7.03392392412171, mean accuracy: 0.56714, elapsed_time :43.55191397666931\n",
            "epoch: 3, mean loss: 6.344478823644731, mean accuracy: 0.6353, elapsed_time :65.5437798500061\n",
            "epoch: 4, mean loss: 5.930086050496992, mean accuracy: 0.67894, elapsed_time :87.49993443489075\n",
            "epoch: 5, mean loss: 5.703075591865403, mean accuracy: 0.70204, elapsed_time :109.88739514350891\n",
            "epoch: 6, mean loss: 5.538894218557021, mean accuracy: 0.72068, elapsed_time :131.0453736782074\n",
            "epoch: 7, mean loss: 5.404448709219618, mean accuracy: 0.73456, elapsed_time :153.25564312934875\n",
            "epoch: 8, mean loss: 5.315665215787376, mean accuracy: 0.74776, elapsed_time :174.4353630542755\n",
            "epoch: 9, mean loss: 5.237729330501898, mean accuracy: 0.75584, elapsed_time :194.7359757423401\n",
            "epoch: 10, mean loss: 5.1633319455339475, mean accuracy: 0.76478, elapsed_time :215.99076294898987\n",
            "epoch: 11, mean loss: 5.126333842801926, mean accuracy: 0.7708, elapsed_time :237.004159450531\n",
            "epoch: 12, mean loss: 5.067226317532532, mean accuracy: 0.77998, elapsed_time :257.0537724494934\n",
            "epoch: 13, mean loss: 5.039509870207218, mean accuracy: 0.78348, elapsed_time :278.42334270477295\n",
            "epoch: 15, mean loss: 4.976628048950449, mean accuracy: 0.79268, elapsed_time :319.59429240226746\n",
            "epoch: 16, mean loss: 4.948749476991346, mean accuracy: 0.79822, elapsed_time :340.9451644420624\n",
            "epoch: 17, mean loss: 4.916575892502085, mean accuracy: 0.80002, elapsed_time :362.39859771728516\n",
            "epoch: 18, mean loss: 4.8967749304173855, mean accuracy: 0.8063, elapsed_time :382.52860498428345\n",
            "epoch: 19, mean loss: 4.862553404725117, mean accuracy: 0.80994, elapsed_time :403.844607591629\n",
            "epoch: 20, mean loss: 4.842673005655294, mean accuracy: 0.81382, elapsed_time :425.29225492477417\n",
            "test accuracy: 0.7934\n"
          ]
        }
      ],
      "source": [
        "teacher = torch.load(\"teacher.pkl\")\n",
        "student = CNN(widen_factor=1).cuda()\n",
        "\n",
        "# オプティマイザの設定\n",
        "optimizer = torch.optim.SGD(student.parameters(), lr=0.01, momentum=0.9)\n",
        "\n",
        "# studentネットワークのみを学習モードへ変更\n",
        "teacher.eval()\n",
        "student.train()\n",
        "\n",
        "start = time()\n",
        "for epoch in range(1, NUM_EPOCH+1):\n",
        "    sum_loss = 0.0\n",
        "    count = 0\n",
        "    \n",
        "    for image, label in train_loader:\n",
        "        \n",
        "        image = image.cuda()\n",
        "        label = label.cuda()\n",
        "        \n",
        "        # Teacherネットワークの出力を得る\n",
        "        y_t = teacher(image)\n",
        "        # Studentネットワークの出力を得る\n",
        "        y_s = student(image)\n",
        "        \n",
        "        # 損失の計算\n",
        "        hard_loss = F.cross_entropy(y_s, label)\n",
        "        soft_loss = cross_entropy(y_s, y_t.detach(), T=2.)####\n",
        "        loss = hard_loss + 4.0 * soft_loss\n",
        "        \n",
        "        student.zero_grad()\n",
        "        loss.backward()\n",
        "        optimizer.step()\n",
        "        \n",
        "        sum_loss += loss.item()\n",
        "        \n",
        "        pred = torch.argmax(y_s, dim=1)\n",
        "        count += torch.sum(pred == label)\n",
        "        \n",
        "    print(f\"epoch: {epoch}, mean loss: {sum_loss/len(train_loader)}, mean accuracy: {count.item()/len(train_loader.dataset)}, elapsed_time :{time()-start}\")\n",
        "\n",
        "# ネットワークを評価モードへ変更\n",
        "student.eval()\n",
        "\n",
        "# 評価の実行\n",
        "count = 0\n",
        "with torch.no_grad():\n",
        "    for image, label in test_loader:\n",
        "        \n",
        "        image = image.cuda()\n",
        "        label = label.cuda()\n",
        "        \n",
        "        y = student(image)\n",
        "        \n",
        "        pred = torch.argmax(y, dim=1)\n",
        "        count += torch.sum(pred == label)\n",
        "\n",
        "print(f\"test accuracy: {count.item()/len(test_loader.dataset)}\")"
      ]
    },
    {
      "cell_type": "code",
      "source": [
        "teacher = torch.load(\"teacher.pkl\")\n",
        "student = CNN(widen_factor=1).cuda()\n",
        "# オプティマイザの設定\n",
        "optimizer = torch.optim.SGD(student.parameters(), lr=0.01, momentum=0.9)\n",
        "\n",
        "# studentネットワークのみを学習モードへ変更\n",
        "teacher.eval()\n",
        "student.train()\n",
        "\n",
        "start = time()\n",
        "for epoch in range(1, NUM_EPOCH+1):\n",
        "    sum_loss = 0.0\n",
        "    count = 0\n",
        "    \n",
        "    for image, label in train_loader:\n",
        "        \n",
        "        image = image.cuda()\n",
        "        label = label.cuda()\n",
        "        \n",
        "        # Teacherネットワークの出力を得る\n",
        "        y_t = teacher(image)\n",
        "        # Studentネットワークの出力を得る\n",
        "        y_s = student(image)\n",
        "        \n",
        "        # 損失の計算\n",
        "        hard_loss = F.cross_entropy(y_s, label)\n",
        "        soft_loss = cross_entropy(y_s, y_t.detach(), T=8.)####\n",
        "        loss = hard_loss + 4.0 * soft_loss\n",
        "        \n",
        "        student.zero_grad()\n",
        "        loss.backward()\n",
        "        optimizer.step()\n",
        "        \n",
        "        sum_loss += loss.item()\n",
        "        \n",
        "        pred = torch.argmax(y_s, dim=1)\n",
        "        count += torch.sum(pred == label)\n",
        "        \n",
        "    print(f\"epoch: {epoch}, mean loss: {sum_loss/len(train_loader)}, mean accuracy: {count.item()/len(train_loader.dataset)}, elapsed_time :{time()-start}\")\n",
        "\n",
        "# ネットワークを評価モードへ変更\n",
        "student.eval()\n",
        "\n",
        "# 評価の実行\n",
        "count = 0\n",
        "with torch.no_grad():\n",
        "    for image, label in test_loader:\n",
        "        \n",
        "        image = image.cuda()\n",
        "        label = label.cuda()\n",
        "        \n",
        "        y = student(image)\n",
        "        \n",
        "        pred = torch.argmax(y, dim=1)\n",
        "        count += torch.sum(pred == label)\n",
        "\n",
        "print(f\"test accuracy: {count.item()/len(test_loader.dataset)}\")"
      ],
      "metadata": {
        "id": "5lUsExm7_1mO",
        "colab": {
          "base_uri": "https://localhost:8080/"
        },
        "outputId": "59c66936-7bde-4524-dd79-6a6df2888604"
      },
      "execution_count": 30,
      "outputs": [
        {
          "output_type": "stream",
          "name": "stdout",
          "text": [
            "epoch: 1, mean loss: 10.624448094526521, mean accuracy: 0.37518, elapsed_time :20.989917516708374\n",
            "epoch: 2, mean loss: 10.08812159955349, mean accuracy: 0.5112, elapsed_time :42.604682207107544\n",
            "epoch: 3, mean loss: 9.823144439541165, mean accuracy: 0.57712, elapsed_time :64.61628460884094\n",
            "epoch: 4, mean loss: 9.627482278877512, mean accuracy: 0.6255, elapsed_time :85.28302025794983\n",
            "epoch: 5, mean loss: 9.502680796796403, mean accuracy: 0.65868, elapsed_time :107.29257869720459\n",
            "epoch: 6, mean loss: 9.419188988483166, mean accuracy: 0.6809, elapsed_time :128.22105622291565\n",
            "epoch: 7, mean loss: 9.34527798016053, mean accuracy: 0.6994, elapsed_time :149.66274237632751\n",
            "epoch: 8, mean loss: 9.27996524581519, mean accuracy: 0.71858, elapsed_time :171.5042417049408\n",
            "epoch: 9, mean loss: 9.240110959543292, mean accuracy: 0.7287, elapsed_time :192.30676698684692\n",
            "epoch: 10, mean loss: 9.194638699826681, mean accuracy: 0.74158, elapsed_time :214.29876017570496\n",
            "epoch: 11, mean loss: 9.148215997554457, mean accuracy: 0.7518, elapsed_time :235.34346342086792\n",
            "epoch: 12, mean loss: 9.120614818904711, mean accuracy: 0.76096, elapsed_time :256.8439145088196\n",
            "epoch: 13, mean loss: 9.094890350575946, mean accuracy: 0.76918, elapsed_time :278.8630828857422\n",
            "epoch: 14, mean loss: 9.067383745442266, mean accuracy: 0.77722, elapsed_time :299.8011212348938\n",
            "epoch: 15, mean loss: 9.054953714160968, mean accuracy: 0.78068, elapsed_time :321.7647314071655\n",
            "epoch: 16, mean loss: 9.019979109849466, mean accuracy: 0.79166, elapsed_time :342.39126539230347\n",
            "epoch: 17, mean loss: 9.007320674788922, mean accuracy: 0.7938, elapsed_time :364.1238389015198\n",
            "epoch: 18, mean loss: 8.98663596180089, mean accuracy: 0.80224, elapsed_time :386.33813214302063\n",
            "epoch: 19, mean loss: 8.967014159083062, mean accuracy: 0.8069, elapsed_time :407.06582975387573\n",
            "epoch: 20, mean loss: 8.955058760045434, mean accuracy: 0.80996, elapsed_time :429.2049198150635\n",
            "test accuracy: 0.7834\n"
          ]
        }
      ]
    },
    {
      "cell_type": "code",
      "source": [
        "teacher = torch.load(\"teacher.pkl\")\n",
        "student = CNN(widen_factor=1).cuda()\n",
        "# オプティマイザの設定\n",
        "optimizer = torch.optim.SGD(student.parameters(), lr=0.01, momentum=0.9)\n",
        "\n",
        "# studentネットワークのみを学習モードへ変更\n",
        "teacher.eval()\n",
        "student.train()\n",
        "\n",
        "start = time()\n",
        "for epoch in range(1, NUM_EPOCH+1):\n",
        "    sum_loss = 0.0\n",
        "    count = 0\n",
        "    \n",
        "    for image, label in train_loader:\n",
        "        \n",
        "        image = image.cuda()\n",
        "        label = label.cuda()\n",
        "        \n",
        "        # Teacherネットワークの出力を得る\n",
        "        y_t = teacher(image)\n",
        "        # Studentネットワークの出力を得る\n",
        "        y_s = student(image)\n",
        "        \n",
        "        # 損失の計算\n",
        "        hard_loss = F.cross_entropy(y_s, label)\n",
        "        soft_loss = cross_entropy(y_s, y_t.detach(), T=4.)####\n",
        "        loss = hard_loss + 2.0 * soft_loss\n",
        "        \n",
        "        student.zero_grad()\n",
        "        loss.backward()\n",
        "        optimizer.step()\n",
        "        \n",
        "        sum_loss += loss.item()\n",
        "        \n",
        "        pred = torch.argmax(y_s, dim=1)\n",
        "        count += torch.sum(pred == label)\n",
        "        \n",
        "    print(f\"epoch: {epoch}, mean loss: {sum_loss/len(train_loader)}, mean accuracy: {count.item()/len(train_loader.dataset)}, elapsed_time :{time()-start}\")\n",
        "\n",
        "# ネットワークを評価モードへ変更\n",
        "student.eval()\n",
        "\n",
        "# 評価の実行\n",
        "count = 0\n",
        "with torch.no_grad():\n",
        "    for image, label in test_loader:\n",
        "        \n",
        "        image = image.cuda()\n",
        "        label = label.cuda()\n",
        "        \n",
        "        y = student(image)\n",
        "        \n",
        "        pred = torch.argmax(y, dim=1)\n",
        "        count += torch.sum(pred == label)\n",
        "\n",
        "print(f\"test accuracy: {count.item()/len(test_loader.dataset)}\")"
      ],
      "metadata": {
        "id": "1G-9whDw_37M",
        "colab": {
          "base_uri": "https://localhost:8080/"
        },
        "outputId": "4eb45091-28f8-4b34-ecdd-8783dacf83b8"
      },
      "execution_count": 31,
      "outputs": [
        {
          "output_type": "stream",
          "name": "stdout",
          "text": [
            "epoch: 1, mean loss: 5.811154327734047, mean accuracy: 0.38332, elapsed_time :22.180564165115356\n",
            "epoch: 2, mean loss: 5.073879820001705, mean accuracy: 0.54444, elapsed_time :42.82693123817444\n",
            "epoch: 3, mean loss: 4.777778434021698, mean accuracy: 0.60818, elapsed_time :64.63177537918091\n",
            "epoch: 4, mean loss: 4.593874748710476, mean accuracy: 0.64582, elapsed_time :85.75426411628723\n",
            "epoch: 5, mean loss: 4.458313944089748, mean accuracy: 0.6751, elapsed_time :107.46253252029419\n",
            "epoch: 6, mean loss: 4.360004314681149, mean accuracy: 0.69814, elapsed_time :129.6090545654297\n",
            "epoch: 7, mean loss: 4.288285970992749, mean accuracy: 0.71468, elapsed_time :150.4239296913147\n",
            "epoch: 8, mean loss: 4.222982452043792, mean accuracy: 0.72838, elapsed_time :172.80706000328064\n",
            "epoch: 9, mean loss: 4.167277048615849, mean accuracy: 0.74196, elapsed_time :194.3486683368683\n",
            "epoch: 10, mean loss: 4.134663125743037, mean accuracy: 0.75144, elapsed_time :215.54991173744202\n",
            "epoch: 11, mean loss: 4.09244022924272, mean accuracy: 0.76258, elapsed_time :237.82333970069885\n",
            "epoch: 12, mean loss: 4.066188232673099, mean accuracy: 0.76748, elapsed_time :258.60104417800903\n",
            "epoch: 13, mean loss: 4.034413915765865, mean accuracy: 0.77852, elapsed_time :280.57947516441345\n",
            "epoch: 14, mean loss: 4.006365815391931, mean accuracy: 0.7856, elapsed_time :302.0188298225403\n",
            "epoch: 15, mean loss: 3.982486333688507, mean accuracy: 0.7923, elapsed_time :323.3588252067566\n",
            "epoch: 16, mean loss: 3.9553584534188975, mean accuracy: 0.79946, elapsed_time :345.5605902671814\n",
            "epoch: 17, mean loss: 3.9424305642047504, mean accuracy: 0.8024, elapsed_time :366.1805226802826\n",
            "epoch: 18, mean loss: 3.9132664785970506, mean accuracy: 0.81018, elapsed_time :388.3739552497864\n",
            "epoch: 19, mean loss: 3.8916190371793857, mean accuracy: 0.81838, elapsed_time :410.0585823059082\n",
            "epoch: 20, mean loss: 3.894125043888531, mean accuracy: 0.81892, elapsed_time :431.2125916481018\n",
            "test accuracy: 0.7908\n"
          ]
        }
      ]
    },
    {
      "cell_type": "code",
      "source": [
        "teacher = torch.load(\"teacher.pkl\")\n",
        "student = CNN(widen_factor=1).cuda()\n",
        "# オプティマイザの設定\n",
        "optimizer = torch.optim.SGD(student.parameters(), lr=0.01, momentum=0.9)\n",
        "\n",
        "# studentネットワークのみを学習モードへ変更\n",
        "teacher.eval()\n",
        "student.train()\n",
        "\n",
        "start = time()\n",
        "for epoch in range(1, NUM_EPOCH+1):\n",
        "    sum_loss = 0.0\n",
        "    count = 0\n",
        "    \n",
        "    for image, label in train_loader:\n",
        "        \n",
        "        image = image.cuda()\n",
        "        label = label.cuda()\n",
        "        \n",
        "        # Teacherネットワークの出力を得る\n",
        "        y_t = teacher(image)\n",
        "        # Studentネットワークの出力を得る\n",
        "        y_s = student(image)\n",
        "        \n",
        "        # 損失の計算\n",
        "        hard_loss = F.cross_entropy(y_s, label)\n",
        "        soft_loss = cross_entropy(y_s, y_t.detach(), T=4.)####\n",
        "        loss = hard_loss + 8.0 * soft_loss\n",
        "        \n",
        "        student.zero_grad()\n",
        "        loss.backward()\n",
        "        optimizer.step()\n",
        "        \n",
        "        sum_loss += loss.item()\n",
        "        \n",
        "        pred = torch.argmax(y_s, dim=1)\n",
        "        count += torch.sum(pred == label)\n",
        "        \n",
        "    print(f\"epoch: {epoch}, mean loss: {sum_loss/len(train_loader)}, mean accuracy: {count.item()/len(train_loader.dataset)}, elapsed_time :{time()-start}\")\n",
        "\n",
        "# ネットワークを評価モードへ変更\n",
        "student.eval()\n",
        "\n",
        "# 評価の実行\n",
        "count = 0\n",
        "with torch.no_grad():\n",
        "    for image, label in test_loader:\n",
        "        \n",
        "        image = image.cuda()\n",
        "        label = label.cuda()\n",
        "        \n",
        "        y = student(image)\n",
        "        \n",
        "        pred = torch.argmax(y, dim=1)\n",
        "        count += torch.sum(pred == label)\n",
        "\n",
        "print(f\"test accuracy: {count.item()/len(test_loader.dataset)}\")"
      ],
      "metadata": {
        "id": "8gbwZ578_7SM",
        "colab": {
          "base_uri": "https://localhost:8080/"
        },
        "outputId": "cb24fc4d-2719-422b-9b3e-34f0a9482f80"
      },
      "execution_count": 32,
      "outputs": [
        {
          "output_type": "stream",
          "name": "stdout",
          "text": [
            "epoch: 1, mean loss: 17.74216613867094, mean accuracy: 0.40408, elapsed_time :22.261005878448486\n",
            "epoch: 2, mean loss: 15.949013178305858, mean accuracy: 0.56962, elapsed_time :44.406134366989136\n",
            "epoch: 3, mean loss: 15.15818657838475, mean accuracy: 0.64814, elapsed_time :65.06724262237549\n",
            "epoch: 4, mean loss: 14.80659891089515, mean accuracy: 0.68594, elapsed_time :87.08896565437317\n",
            "epoch: 5, mean loss: 14.589928201397361, mean accuracy: 0.71078, elapsed_time :107.96987128257751\n",
            "epoch: 6, mean loss: 14.447963107272487, mean accuracy: 0.73004, elapsed_time :130.0664188861847\n",
            "epoch: 7, mean loss: 14.324603470999872, mean accuracy: 0.74676, elapsed_time :152.07368230819702\n",
            "epoch: 8, mean loss: 14.258381093554485, mean accuracy: 0.7575, elapsed_time :172.92398357391357\n",
            "epoch: 9, mean loss: 14.187585270923117, mean accuracy: 0.76528, elapsed_time :194.98877215385437\n",
            "epoch: 10, mean loss: 14.136754164000607, mean accuracy: 0.77644, elapsed_time :215.5676395893097\n",
            "epoch: 11, mean loss: 14.073490336727913, mean accuracy: 0.78212, elapsed_time :237.64968824386597\n",
            "epoch: 12, mean loss: 14.050932717140373, mean accuracy: 0.78752, elapsed_time :260.0419981479645\n",
            "epoch: 13, mean loss: 13.99419687227215, mean accuracy: 0.79708, elapsed_time :281.1084258556366\n",
            "epoch: 14, mean loss: 13.978517601861979, mean accuracy: 0.80022, elapsed_time :303.4352831840515\n",
            "epoch: 15, mean loss: 13.944614720161614, mean accuracy: 0.80688, elapsed_time :325.46355986595154\n",
            "epoch: 16, mean loss: 13.92599281569576, mean accuracy: 0.80768, elapsed_time :347.0394322872162\n",
            "epoch: 17, mean loss: 13.905146590279191, mean accuracy: 0.81572, elapsed_time :369.28753685951233\n",
            "epoch: 18, mean loss: 13.863616872626498, mean accuracy: 0.8184, elapsed_time :390.52495098114014\n",
            "epoch: 19, mean loss: 13.847765122533149, mean accuracy: 0.82342, elapsed_time :412.94157552719116\n",
            "epoch: 20, mean loss: 13.832650013896815, mean accuracy: 0.82732, elapsed_time :435.42401671409607\n",
            "test accuracy: 0.8024\n"
          ]
        }
      ]
    },
    {
      "cell_type": "code",
      "source": [
        "teacher = torch.load(\"teacher.pkl\")\n",
        "student = CNN(widen_factor=1).cuda()\n",
        "# オプティマイザの設定\n",
        "optimizer = torch.optim.SGD(student.parameters(), lr=0.01, momentum=0.9)\n",
        "\n",
        "# studentネットワークのみを学習モードへ変更\n",
        "teacher.eval()\n",
        "student.train()\n",
        "\n",
        "start = time()\n",
        "for epoch in range(1, NUM_EPOCH+1):\n",
        "    sum_loss = 0.0\n",
        "    count = 0\n",
        "    \n",
        "    for image, label in train_loader:\n",
        "        \n",
        "        image = image.cuda()\n",
        "        label = label.cuda()\n",
        "        \n",
        "        # Teacherネットワークの出力を得る\n",
        "        y_t = teacher(image)\n",
        "        # Studentネットワークの出力を得る\n",
        "        y_s = student(image)\n",
        "        \n",
        "        # 損失の計算\n",
        "        hard_loss = F.cross_entropy(y_s, label)\n",
        "        soft_loss = cross_entropy(y_s, y_t.detach(), T=4.)####\n",
        "        loss = hard_loss + 10.0 * soft_loss\n",
        "        \n",
        "        student.zero_grad()\n",
        "        loss.backward()\n",
        "        optimizer.step()\n",
        "        \n",
        "        sum_loss += loss.item()\n",
        "        \n",
        "        pred = torch.argmax(y_s, dim=1)\n",
        "        count += torch.sum(pred == label)\n",
        "        \n",
        "    print(f\"epoch: {epoch}, mean loss: {sum_loss/len(train_loader)}, mean accuracy: {count.item()/len(train_loader.dataset)}, elapsed_time :{time()-start}\")\n",
        "\n",
        "# ネットワークを評価モードへ変更\n",
        "student.eval()\n",
        "\n",
        "# 評価の実行\n",
        "count = 0\n",
        "with torch.no_grad():\n",
        "    for image, label in test_loader:\n",
        "        \n",
        "        image = image.cuda()\n",
        "        label = label.cuda()\n",
        "        \n",
        "        y = student(image)\n",
        "        \n",
        "        pred = torch.argmax(y, dim=1)\n",
        "        count += torch.sum(pred == label)\n",
        "\n",
        "print(f\"test accuracy: {count.item()/len(test_loader.dataset)}\")"
      ],
      "metadata": {
        "colab": {
          "base_uri": "https://localhost:8080/"
        },
        "id": "L256xiKbyxVg",
        "outputId": "c9452149-0275-466b-e481-971184fc3edb"
      },
      "execution_count": 14,
      "outputs": [
        {
          "output_type": "stream",
          "name": "stdout",
          "text": [
            "epoch: 1, mean loss: 21.636956919794496, mean accuracy: 0.40204, elapsed_time :23.702900409698486\n",
            "epoch: 2, mean loss: 19.47899061090806, mean accuracy: 0.5715, elapsed_time :47.917377948760986\n",
            "epoch: 3, mean loss: 18.671732126904267, mean accuracy: 0.6374, elapsed_time :71.4015953540802\n",
            "epoch: 4, mean loss: 18.218108494263475, mean accuracy: 0.67928, elapsed_time :94.421053647995\n",
            "epoch: 5, mean loss: 17.943629224586974, mean accuracy: 0.70704, elapsed_time :118.34692645072937\n",
            "epoch: 6, mean loss: 17.752545309188726, mean accuracy: 0.72692, elapsed_time :142.09120082855225\n",
            "epoch: 7, mean loss: 17.63980315469415, mean accuracy: 0.73804, elapsed_time :164.62642407417297\n",
            "epoch: 8, mean loss: 17.542543952727257, mean accuracy: 0.75042, elapsed_time :188.30421257019043\n",
            "epoch: 9, mean loss: 17.48432337597508, mean accuracy: 0.75928, elapsed_time :212.06396293640137\n",
            "epoch: 10, mean loss: 17.39018941596341, mean accuracy: 0.7683, elapsed_time :234.39040541648865\n",
            "epoch: 11, mean loss: 17.345845190765303, mean accuracy: 0.77654, elapsed_time :258.24449133872986\n",
            "epoch: 12, mean loss: 17.279037776810434, mean accuracy: 0.78446, elapsed_time :282.21277809143066\n",
            "epoch: 13, mean loss: 17.235808331033457, mean accuracy: 0.79168, elapsed_time :305.2209544181824\n",
            "epoch: 14, mean loss: 17.219207644157702, mean accuracy: 0.79452, elapsed_time :328.1427495479584\n",
            "epoch: 15, mean loss: 17.167140882643288, mean accuracy: 0.80112, elapsed_time :352.36911606788635\n",
            "epoch: 16, mean loss: 17.13865934430486, mean accuracy: 0.80336, elapsed_time :376.55596685409546\n",
            "epoch: 17, mean loss: 17.11208611071262, mean accuracy: 0.80786, elapsed_time :399.16232323646545\n",
            "epoch: 18, mean loss: 17.080931819613326, mean accuracy: 0.81326, elapsed_time :423.3510537147522\n",
            "epoch: 19, mean loss: 17.089993993949403, mean accuracy: 0.81842, elapsed_time :447.49843168258667\n",
            "epoch: 20, mean loss: 17.051031912684135, mean accuracy: 0.82196, elapsed_time :470.6564154624939\n",
            "test accuracy: 0.7855\n"
          ]
        }
      ]
    },
    {
      "cell_type": "markdown",
      "source": [
        "T=8 a=4.0\n",
        "test accuracy: 0.7834\n",
        "\n",
        "T=4 a=4.0\n",
        "test accuracy: 0.7984\n",
        "\n",
        "T=2 a=4.0\n",
        "test accuracy: 0.7934\n",
        "\n",
        "##\n",
        "\n",
        "\n",
        "\n",
        "T=4 a=2.0\n",
        "test accuracy: 0.7908\n",
        "\n",
        "T=4 a=4.0\n",
        "test accuracy: 0.7984\n",
        "\n",
        "T=4 a=8.0\n",
        "test accuracy: 0.8024\n",
        "\n",
        "T=4 a=10.0\n",
        "test accuracy: 0.7855"
      ],
      "metadata": {
        "id": "odowqWUVrJXB"
      }
    },
    {
      "cell_type": "markdown",
      "source": [
        "Tを変更した場合，T=4が最も良い精度をしている．\n",
        "aを変更した場合，a=8.0が最も良い精度をしている．\n",
        "\n",
        "Tは温度パラメータであり，不正解クラスの確率を高める働きがある．この値を小さすぎても，大きすぎても精度が下がることから，不正解クラスに確率値を割くことで精度を向上させるが，大きく割くと正解クラスと不正解クラスの場合訳が上手くいかず，精度が下がると考えられる．\n",
        "\n",
        "aはTeacherネットワークの出力の損失をどれだけ重く受け止めるかという値であるため，これが大きいほど不正解ラベルに寛容になると考えられるため，Tと役割が近いと考えられる．そのため，大きすぎても小さすぎても精度が下がるのは同じ理由であると考えれる．"
      ],
      "metadata": {
        "id": "BYBXG7Wmt_ed"
      }
    },
    {
      "cell_type": "code",
      "source": [],
      "metadata": {
        "id": "M-E73DjmwYvh"
      },
      "execution_count": null,
      "outputs": []
    }
  ],
  "metadata": {
    "kernelspec": {
      "display_name": "Python 3",
      "language": "python",
      "name": "python3"
    },
    "language_info": {
      "codemirror_mode": {
        "name": "ipython",
        "version": 3
      },
      "file_extension": ".py",
      "mimetype": "text/x-python",
      "name": "python",
      "nbconvert_exporter": "python",
      "pygments_lexer": "ipython3",
      "version": "3.7.6"
    },
    "toc-autonumbering": false,
    "colab": {
      "provenance": []
    },
    "accelerator": "GPU",
    "gpuClass": "standard"
  },
  "nbformat": 4,
  "nbformat_minor": 0
}